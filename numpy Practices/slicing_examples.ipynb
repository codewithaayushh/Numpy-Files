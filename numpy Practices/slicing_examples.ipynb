{
 "cells": [
  {
   "cell_type": "code",
   "execution_count": null,
   "id": "72852e01-57b0-478e-89d3-ed56f9d8af37",
   "metadata": {},
   "outputs": [],
   "source": [
    "\n",
    "#NumPy Array Slicing\n"
   ]
  },
  {
   "cell_type": "code",
   "execution_count": 4,
   "id": "e2c0a1cf-7f61-4867-ad03-b0aab07c826a",
   "metadata": {},
   "outputs": [],
   "source": [
    "import numpy as np"
   ]
  },
  {
   "cell_type": "code",
   "execution_count": 2,
   "id": "4cdbddca-0e18-471d-a4a7-2f1cc694b893",
   "metadata": {},
   "outputs": [
    {
     "name": "stdout",
     "output_type": "stream",
     "text": [
      "[1 2 3 4 5]\n"
     ]
    }
   ],
   "source": [
    "arr=np.array([1,2,3,4,5])\n",
    "print(arr)"
   ]
  },
  {
   "cell_type": "code",
   "execution_count": 4,
   "id": "cdfab004-74ed-4058-89a6-ce2ecf638edf",
   "metadata": {},
   "outputs": [
    {
     "name": "stdout",
     "output_type": "stream",
     "text": [
      "[2 3 4 5]\n"
     ]
    }
   ],
   "source": [
    "#Slice elements from index 1 to index 5 from the following array:\n",
    "\n",
    "print(arr[1:5])"
   ]
  },
  {
   "cell_type": "code",
   "execution_count": 5,
   "id": "f801cc69-3e29-495d-8e73-f718de6267c6",
   "metadata": {},
   "outputs": [
    {
     "name": "stdout",
     "output_type": "stream",
     "text": [
      "[5]\n"
     ]
    }
   ],
   "source": [
    "#Slice elements from index 4 to the end of the array:\n",
    "\n",
    "print(arr[4:])"
   ]
  },
  {
   "cell_type": "code",
   "execution_count": 6,
   "id": "18f3af0a-b369-4617-b1c7-2540bfa873b9",
   "metadata": {},
   "outputs": [
    {
     "name": "stdout",
     "output_type": "stream",
     "text": [
      "[1 2 3 4]\n"
     ]
    }
   ],
   "source": [
    "#Slice elements from the beginning to index 4 (not included):\n",
    "\n",
    "print(arr[:4])"
   ]
  },
  {
   "cell_type": "code",
   "execution_count": null,
   "id": "2e286bb6-3dc9-45c0-8907-185c39db8ce9",
   "metadata": {},
   "outputs": [],
   "source": [
    "\n",
    "#Negative Slicing\n"
   ]
  },
  {
   "cell_type": "code",
   "execution_count": 7,
   "id": "4ad1e305-0268-4144-bfa8-097c34646625",
   "metadata": {},
   "outputs": [
    {
     "name": "stdout",
     "output_type": "stream",
     "text": [
      "[3 4]\n"
     ]
    }
   ],
   "source": [
    "print(arr[-3:-1])"
   ]
  },
  {
   "cell_type": "code",
   "execution_count": null,
   "id": "46ec36cf-33fb-413d-bcde-1ef43a49f105",
   "metadata": {},
   "outputs": [],
   "source": [
    "\n",
    "# 1D ARRAY SLICING\n"
   ]
  },
  {
   "cell_type": "code",
   "execution_count": 8,
   "id": "c57f4d73-d49b-4378-ba89-cd968345f662",
   "metadata": {},
   "outputs": [],
   "source": [
    "import numpy as np"
   ]
  },
  {
   "cell_type": "code",
   "execution_count": 9,
   "id": "81478548-1e0e-488c-ac52-5bc04303d8a8",
   "metadata": {},
   "outputs": [
    {
     "name": "stdout",
     "output_type": "stream",
     "text": [
      "1D Array: [0 1 2 3 4 5 6 7 8 9]\n"
     ]
    }
   ],
   "source": [
    "a = np.arange(10)   # [0 1 2 3 4 5 6 7 8 9]\n",
    "print(\"1D Array:\", a)"
   ]
  },
  {
   "cell_type": "code",
   "execution_count": 10,
   "id": "3b5b33c5-0dfd-4c85-ac78-256a0a1cc181",
   "metadata": {},
   "outputs": [
    {
     "name": "stdout",
     "output_type": "stream",
     "text": [
      "First 5: [0 1 2 3 4]\n"
     ]
    }
   ],
   "source": [
    "# Q1: First 5 elements\n",
    "print(\"First 5:\", a[:5])   # [0 1 2 3 4]"
   ]
  },
  {
   "cell_type": "code",
   "execution_count": 11,
   "id": "e1e4bdb2-6b20-4742-bb47-063684161cf2",
   "metadata": {},
   "outputs": [
    {
     "name": "stdout",
     "output_type": "stream",
     "text": [
      "Last 4: [6 7 8 9]\n"
     ]
    }
   ],
   "source": [
    "# Q2: Last 4 elements\n",
    "\n",
    "print(\"Last 4:\", a[-4:])   # [6 7 8 9]"
   ]
  },
  {
   "cell_type": "code",
   "execution_count": 12,
   "id": "99442840-2fce-4f73-9030-eeea95efe7ee",
   "metadata": {},
   "outputs": [
    {
     "name": "stdout",
     "output_type": "stream",
     "text": [
      "Index 2 to 6:  [2 3 4 5 6]\n"
     ]
    }
   ],
   "source": [
    "# Q3: Elements from index 2 to 7\n",
    "\n",
    "print(\"Index 2 to 6: \",a[2:7])"
   ]
  },
  {
   "cell_type": "code",
   "execution_count": 13,
   "id": "956467ed-2ad3-44f3-bf8d-8e90d5113e9b",
   "metadata": {},
   "outputs": [
    {
     "name": "stdout",
     "output_type": "stream",
     "text": [
      "Revered Array is : [9 8 7 6 5 4 3 2 1 0]\n"
     ]
    }
   ],
   "source": [
    "# Q4: Reverse the array\n",
    "\n",
    "print(\"Revered Array is :\" ,a[::-1])"
   ]
  },
  {
   "cell_type": "code",
   "execution_count": 14,
   "id": "d5f81b7d-3622-4ef5-b8a9-b0952273b44f",
   "metadata": {},
   "outputs": [
    {
     "name": "stdout",
     "output_type": "stream",
     "text": [
      "step 2:  [0 2 4 6 8]\n"
     ]
    }
   ],
   "source": [
    "# Q5: Every 2nd elementa\n",
    "\n",
    "print(\"step 2: \", a[::2])"
   ]
  },
  {
   "cell_type": "code",
   "execution_count": 15,
   "id": "2f0d49ef-b302-4a0c-8c80-819555de2cac",
   "metadata": {},
   "outputs": [
    {
     "name": "stdout",
     "output_type": "stream",
     "text": [
      "middle part : [4 5 6]\n"
     ]
    }
   ],
   "source": [
    "# Q6: Middle part\n",
    "\n",
    "print(\"middle part :\" ,a[4:7])"
   ]
  },
  {
   "cell_type": "code",
   "execution_count": 7,
   "id": "86300ae8-d53d-4a46-852a-0bad8fc27bda",
   "metadata": {},
   "outputs": [
    {
     "name": "stdout",
     "output_type": "stream",
     "text": [
      "[ 0  1  2  3  4  5  6  7  8  9 10 11 12 13 14]\n"
     ]
    }
   ],
   "source": [
    "ar = np.arange(15)   \n",
    "print(ar)"
   ]
  },
  {
   "cell_type": "code",
   "execution_count": null,
   "id": "a75f8a32-b3e7-4842-83cc-55cd0e810b95",
   "metadata": {},
   "outputs": [],
   "source": []
  },
  {
   "cell_type": "code",
   "execution_count": 12,
   "id": "b5738e1c-5e18-4b0e-ad58-d2fb81425db2",
   "metadata": {},
   "outputs": [
    {
     "name": "stdout",
     "output_type": "stream",
     "text": [
      "[14 12 10  8  6  4  2  0]\n"
     ]
    }
   ],
   "source": [
    "# Slice with negative step (reverse with step)\n",
    "print(ar[::-2]) "
   ]
  },
  {
   "cell_type": "code",
   "execution_count": 14,
   "id": "484f9618-8486-44a1-9f93-01b0d0c092cd",
   "metadata": {},
   "outputs": [
    {
     "name": "stdout",
     "output_type": "stream",
     "text": [
      "[3 6 9]\n"
     ]
    }
   ],
   "source": [
    "# From index 3 to 10, every 3rd element\n",
    "print(ar[3:11:3])"
   ]
  },
  {
   "cell_type": "code",
   "execution_count": 15,
   "id": "193de4b1-362a-4b0d-8e8c-f1e031db6387",
   "metadata": {},
   "outputs": [
    {
     "name": "stdout",
     "output_type": "stream",
     "text": [
      "[ 0  4  7 10]\n"
     ]
    }
   ],
   "source": [
    "# Fancy slicing (specific indices)\n",
    "print(ar[[0, 4, 7, 10]])"
   ]
  },
  {
   "cell_type": "code",
   "execution_count": null,
   "id": "f0ffc8f8-82e3-4e42-85d4-cbf342d1e0ae",
   "metadata": {},
   "outputs": [],
   "source": [
    "\n",
    "# 2D ARRAY SLICING\n",
    "\n"
   ]
  },
  {
   "cell_type": "code",
   "execution_count": 21,
   "id": "84006611-b19e-4b12-85e0-9e18ff34d58c",
   "metadata": {},
   "outputs": [],
   "source": [
    "b=np.arange(1,13).reshape(3,4)"
   ]
  },
  {
   "cell_type": "code",
   "execution_count": 30,
   "id": "374de286-f77b-4ce7-a441-de579c93ba35",
   "metadata": {},
   "outputs": [
    {
     "name": "stdout",
     "output_type": "stream",
     "text": [
      "  \n",
      " 2D Array ia \n",
      "  [[ 1  2  3  4]\n",
      " [ 5  6  7  8]\n",
      " [ 9 10 11 12]]\n"
     ]
    }
   ],
   "source": [
    "print(\"  \\n 2D Array ia \\n \",b)"
   ]
  },
  {
   "cell_type": "code",
   "execution_count": 23,
   "id": "951085ec-bb06-4ad0-8d5f-9612628cee65",
   "metadata": {},
   "outputs": [
    {
     "name": "stdout",
     "output_type": "stream",
     "text": [
      "First Row is  [1 2 3 4]\n"
     ]
    }
   ],
   "source": [
    "# Q1: First row\n",
    "\n",
    "print(\"First Row is \", b[0,: ])"
   ]
  },
  {
   "cell_type": "code",
   "execution_count": 24,
   "id": "55ee5189-81a5-4165-81ed-8529dc149797",
   "metadata": {},
   "outputs": [
    {
     "name": "stdout",
     "output_type": "stream",
     "text": [
      "Last row is  [ 9 10 11 12]\n"
     ]
    }
   ],
   "source": [
    "# Q2: Last Row\n",
    "print(\"Last row is \" ,b[2,: ])"
   ]
  },
  {
   "cell_type": "code",
   "execution_count": 25,
   "id": "4c155a5e-166b-43b9-bf4a-38522fbf52d7",
   "metadata": {},
   "outputs": [
    {
     "name": "stdout",
     "output_type": "stream",
     "text": [
      "First column is  [1 5 9]\n"
     ]
    }
   ],
   "source": [
    "# Q3 First column\n",
    "print(\"First column is \", b[:,0])"
   ]
  },
  {
   "cell_type": "code",
   "execution_count": 28,
   "id": "9e1a573f-9e2b-456a-8a33-eb4148cfd151",
   "metadata": {},
   "outputs": [
    {
     "name": "stdout",
     "output_type": "stream",
     "text": [
      "last colums is  [ 4  8 12]\n"
     ]
    }
   ],
   "source": [
    "# Q4: Last column\n",
    "print(\"last colums is \",b[ :,3])"
   ]
  },
  {
   "cell_type": "code",
   "execution_count": null,
   "id": "38c71127-b7db-4f71-a7d0-b8cb8242738c",
   "metadata": {},
   "outputs": [],
   "source": [
    "# Q5 Sub-matrix (first 2 rows & 2 cols)\n",
    "\n",
    "print(\"top -left 2*2 \\n \" , b["
   ]
  }
 ],
 "metadata": {
  "kernelspec": {
   "display_name": "Python (Anaconda)",
   "language": "python",
   "name": "base"
  },
  "language_info": {
   "codemirror_mode": {
    "name": "ipython",
    "version": 3
   },
   "file_extension": ".py",
   "mimetype": "text/x-python",
   "name": "python",
   "nbconvert_exporter": "python",
   "pygments_lexer": "ipython3",
   "version": "3.13.5"
  }
 },
 "nbformat": 4,
 "nbformat_minor": 5
}
